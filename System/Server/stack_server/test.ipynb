{
 "cells": [
  {
   "cell_type": "code",
   "execution_count": 8,
   "metadata": {},
   "outputs": [],
   "source": [
    "%%capture\n",
    "!pip install pandas mysql-connector-python\n",
    "!pip install flask\n",
    "!pip install flask_ngrok\n",
    "!pip install flask_cors\n",
    "!pip install pyngrok"
   ]
  },
  {
   "cell_type": "code",
   "execution_count": 6,
   "metadata": {},
   "outputs": [
    {
     "name": "stdout",
     "output_type": "stream",
     "text": [
      "   ID           ModelName\n",
      "0   1  gpt-3.5-turbo-0613\n",
      "1   2  gpt-3.5-turbo-0613\n",
      "2   3  gpt-3.5-turbo-0613\n",
      "3   4  gpt-3.5-turbo-0613\n"
     ]
    },
    {
     "name": "stderr",
     "output_type": "stream",
     "text": [
      "/tmp/ipykernel_57691/1026002161.py:18: UserWarning: pandas only supports SQLAlchemy connectable (engine/connection) or database string URI or sqlite3 DBAPI2 connection. Other DBAPI2 objects are not tested. Please consider using SQLAlchemy.\n",
      "  df = pd.read_sql(query, cnx)\n"
     ]
    }
   ],
   "source": [
    "import pandas as pd\n",
    "import mysql.connector\n",
    "\n",
    "# データベース接続設定\n",
    "config = {\n",
    "  'user': 'Server',     # ここにユーザー名を入れます\n",
    "  'password': 'serverpass', # ここにパスワードを入れます\n",
    "  'host': 'localhost',    # ここにホストを入れます\n",
    "  'database': 'AI_Workshop_Management', # ここにデータベース名を入れます\n",
    "  'raise_on_warnings': True\n",
    "}\n",
    "\n",
    "# データベースに接続\n",
    "cnx = mysql.connector.connect(**config)\n",
    "\n",
    "# SQLクエリを実行し、結果をデータフレームに格納\n",
    "query = \"SELECT * FROM Model\" # ここにクエリを入れます\n",
    "df = pd.read_sql(query, cnx)\n",
    "\n",
    "# 接続を閉じる\n",
    "cnx.close()\n",
    "\n",
    "# 結果を表示\n",
    "print(df)\n"
   ]
  },
  {
   "cell_type": "code",
   "execution_count": 7,
   "metadata": {},
   "outputs": [
    {
     "data": {
      "text/plain": [
       "Index(['ID', 'ModelName'], dtype='object')"
      ]
     },
     "execution_count": 7,
     "metadata": {},
     "output_type": "execute_result"
    }
   ],
   "source": [
    "df.columns"
   ]
  },
  {
   "cell_type": "code",
   "execution_count": 9,
   "metadata": {},
   "outputs": [
    {
     "name": "stdout",
     "output_type": "stream",
     "text": [
      "anyio==4.0.0\n",
      "argon2-cffi==23.1.0\n",
      "argon2-cffi-bindings==21.2.0\n",
      "arrow==1.3.0\n",
      "asttokens==2.4.1\n",
      "async-lru==2.0.4\n",
      "attrs==23.1.0\n",
      "Babel==2.13.1\n",
      "beautifulsoup4==4.12.2\n",
      "bleach==6.1.0\n",
      "blinker==1.7.0\n",
      "certifi==2023.7.22\n",
      "cffi==1.16.0\n",
      "charset-normalizer==3.3.2\n",
      "click==8.1.7\n",
      "colorama==0.4.6\n",
      "comm==0.2.0\n",
      "contourpy==1.2.0\n",
      "cycler==0.12.1\n",
      "debugpy==1.8.0\n",
      "decorator==5.1.1\n",
      "defusedxml==0.7.1\n",
      "exceptiongroup==1.1.3\n",
      "executing==2.0.1\n",
      "fastjsonschema==2.19.0\n",
      "filelock==3.13.1\n",
      "Flask==3.0.0\n",
      "Flask-Cors==4.0.0\n",
      "flask-ngrok==0.0.25\n",
      "fonttools==4.44.3\n",
      "fqdn==1.5.1\n",
      "fsspec==2023.10.0\n",
      "gitdb==4.0.11\n",
      "GitPython==3.1.40\n",
      "idna==3.4\n",
      "ipykernel==6.26.0\n",
      "ipython==8.17.2\n",
      "isoduration==20.11.0\n",
      "itsdangerous==2.1.2\n",
      "jedi==0.19.1\n",
      "Jinja2==3.1.2\n",
      "joblib==1.3.2\n",
      "json5==0.9.14\n",
      "jsonpointer==2.4\n",
      "jsonschema==4.20.0\n",
      "jsonschema-specifications==2023.11.1\n",
      "jupyter-events==0.9.0\n",
      "jupyter-lsp==2.2.0\n",
      "jupyter-server-mathjax==0.2.6\n",
      "jupyter_client==8.6.0\n",
      "jupyter_core==5.5.0\n",
      "jupyter_server==2.10.1\n",
      "jupyter_server_terminals==0.4.4\n",
      "jupyterlab==4.0.8\n",
      "jupyterlab-pygments==0.2.2\n",
      "jupyterlab_git==0.44.0\n",
      "jupyterlab_server==2.25.1\n",
      "kiwisolver==1.4.5\n",
      "MarkupSafe==2.1.3\n",
      "matplotlib==3.8.1\n",
      "matplotlib-inline==0.1.6\n",
      "mistune==3.0.2\n",
      "mpmath==1.3.0\n",
      "mysql-connector-python==8.2.0\n",
      "nbclient==0.9.0\n",
      "nbconvert==7.11.0\n",
      "nbdime==3.2.1\n",
      "nbformat==5.9.2\n",
      "nest-asyncio==1.5.8\n",
      "networkx==3.2.1\n",
      "notebook_shim==0.2.3\n",
      "numpy==1.26.2\n",
      "nvidia-cublas-cu12==12.1.3.1\n",
      "nvidia-cuda-cupti-cu12==12.1.105\n",
      "nvidia-cuda-nvrtc-cu12==12.1.105\n",
      "nvidia-cuda-runtime-cu12==12.1.105\n",
      "nvidia-cudnn-cu12==8.9.2.26\n",
      "nvidia-cufft-cu12==11.0.2.54\n",
      "nvidia-curand-cu12==10.3.2.106\n",
      "nvidia-cusolver-cu12==11.4.5.107\n",
      "nvidia-cusparse-cu12==12.1.0.106\n",
      "nvidia-nccl-cu12==2.18.1\n",
      "nvidia-nvjitlink-cu12==12.3.101\n",
      "nvidia-nvtx-cu12==12.1.105\n",
      "overrides==7.4.0\n",
      "packaging==23.2\n",
      "pandas==2.1.3\n",
      "pandocfilters==1.5.0\n",
      "parso==0.8.3\n",
      "pexpect==4.8.0\n",
      "Pillow==10.1.0\n",
      "platformdirs==4.0.0\n",
      "plotly==5.18.0\n",
      "prometheus-client==0.18.0\n",
      "prompt-toolkit==3.0.41\n",
      "protobuf==4.21.12\n",
      "psutil==5.9.6\n",
      "ptyprocess==0.7.0\n",
      "pure-eval==0.2.2\n",
      "pycparser==2.21\n",
      "Pygments==2.16.1\n",
      "pyngrok==7.0.2\n",
      "pyparsing==3.1.1\n",
      "python-dateutil==2.8.2\n",
      "python-json-logger==2.0.7\n",
      "pytz==2023.3.post1\n",
      "PyYAML==6.0.1\n",
      "pyzmq==25.1.1\n",
      "referencing==0.31.0\n",
      "requests==2.31.0\n",
      "rfc3339-validator==0.1.4\n",
      "rfc3986-validator==0.1.1\n",
      "rpds-py==0.13.0\n",
      "scikit-learn==1.3.2\n",
      "scipy==1.11.3\n",
      "seaborn==0.13.0\n",
      "Send2Trash==1.8.2\n",
      "six==1.16.0\n",
      "smmap==5.0.1\n",
      "sniffio==1.3.0\n",
      "soupsieve==2.5\n",
      "stack-data==0.6.3\n",
      "sympy==1.12\n",
      "tenacity==8.2.3\n",
      "terminado==0.18.0\n",
      "threadpoolctl==3.2.0\n",
      "tinycss2==1.2.1\n",
      "tomli==2.0.1\n",
      "torch==2.1.1\n",
      "tornado==6.3.3\n",
      "traitlets==5.13.0\n",
      "triton==2.1.0\n",
      "types-python-dateutil==2.8.19.14\n",
      "typing_extensions==4.8.0\n",
      "tzdata==2023.3\n",
      "uri-template==1.3.0\n",
      "urllib3==2.0.7\n",
      "wcwidth==0.2.10\n",
      "webcolors==1.13\n",
      "webencodings==0.5.1\n",
      "websocket-client==1.6.4\n",
      "Werkzeug==3.0.1\n"
     ]
    }
   ],
   "source": [
    "!pip freeze"
   ]
  },
  {
   "cell_type": "code",
   "execution_count": null,
   "metadata": {},
   "outputs": [],
   "source": []
  }
 ],
 "metadata": {
  "kernelspec": {
   "display_name": "Python 3",
   "language": "python",
   "name": "python3"
  },
  "language_info": {
   "codemirror_mode": {
    "name": "ipython",
    "version": 3
   },
   "file_extension": ".py",
   "mimetype": "text/x-python",
   "name": "python",
   "nbconvert_exporter": "python",
   "pygments_lexer": "ipython3",
   "version": "3.10.13"
  }
 },
 "nbformat": 4,
 "nbformat_minor": 2
}
