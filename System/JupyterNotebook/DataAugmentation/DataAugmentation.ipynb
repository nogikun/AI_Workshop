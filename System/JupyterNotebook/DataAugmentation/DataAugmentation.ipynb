{
  "cells": [
    {
      "cell_type": "markdown",
      "metadata": {
        "id": "TizQdzE4_xe8"
      },
      "source": [
        "# Excelで入力した教師データの拡張\n",
        "\n",
        "編集日：2023/12/05 <br>\n",
        "編集者：[nogikun](https://github.com/nogikun) <br>"
      ]
    },
    {
      "cell_type": "markdown",
      "metadata": {
        "id": "SPsVxebr_xe-"
      },
      "source": [
        "#### 利用する手法\n",
        "データ件数を増やすために、Excelで入力した教師データと同じデータを任意の数だけ増やします。\n",
        "\n",
        "#### 期待するファイル\n",
        "以下のようなテーブルを含むExcelファイルを用意してください。<br>\n",
        "シート数は１つで、シート名は任意です。\n",
        "\n",
        "※ `system` はA1セル、`user` はB1セル、`assistant` はC1セルに入力してください。\n",
        "\n",
        "|system|user|assistant|\n",
        "|:-:|:-:|:-:|\n",
        "|あなたはスタックチャンです。おはなしをしよう。|こんにちは|こんにちは僕の名前はスタックチャンです|\n",
        "|あなたはスタックチャンです。おはなしをしよう。|{任意の質問}|{任意の質問に対応する解答}|\n",
        "|︙|︙|︙|\n"
      ]
    },
    {
      "cell_type": "markdown",
      "metadata": {},
      "source": [
        "### 1. ライブラリのインストール"
      ]
    },
    {
      "cell_type": "code",
      "execution_count": 3,
      "metadata": {},
      "outputs": [],
      "source": [
        "%%capture\n",
        "!pip install openpyxl"
      ]
    },
    {
      "cell_type": "markdown",
      "metadata": {
        "id": "VYBjEg7I_xe_"
      },
      "source": [
        "### 2.実行"
      ]
    },
    {
      "cell_type": "code",
      "execution_count": 6,
      "metadata": {},
      "outputs": [
        {
          "data": {
            "text/html": [
              "<div>\n",
              "<style scoped>\n",
              "    .dataframe tbody tr th:only-of-type {\n",
              "        vertical-align: middle;\n",
              "    }\n",
              "\n",
              "    .dataframe tbody tr th {\n",
              "        vertical-align: top;\n",
              "    }\n",
              "\n",
              "    .dataframe thead th {\n",
              "        text-align: right;\n",
              "    }\n",
              "</style>\n",
              "<table border=\"1\" class=\"dataframe\">\n",
              "  <thead>\n",
              "    <tr style=\"text-align: right;\">\n",
              "      <th></th>\n",
              "      <th>system</th>\n",
              "      <th>user</th>\n",
              "      <th>assistant</th>\n",
              "    </tr>\n",
              "  </thead>\n",
              "  <tbody>\n",
              "    <tr>\n",
              "      <th>0</th>\n",
              "      <td>あなたはスタックチャンです。おはなしをしよう。</td>\n",
              "      <td>こんにちは</td>\n",
              "      <td>こんにちは。いい天気だね</td>\n",
              "    </tr>\n",
              "    <tr>\n",
              "      <th>1</th>\n",
              "      <td>あなたはスタックチャンです。おはなしをしよう。</td>\n",
              "      <td>私の名前は〇〇です。よろしく！</td>\n",
              "      <td>私の名前はスタックチャンよろしくね！</td>\n",
              "    </tr>\n",
              "    <tr>\n",
              "      <th>2</th>\n",
              "      <td>あなたはスタックチャンです。おはなしをしよう。</td>\n",
              "      <td>今日は晴れているね！</td>\n",
              "      <td>そうだね！外に行きたいね！</td>\n",
              "    </tr>\n",
              "    <tr>\n",
              "      <th>3</th>\n",
              "      <td>あなたはスタックチャンです。おはなしをしよう。</td>\n",
              "      <td>好きな食べ物はなんですか。</td>\n",
              "      <td>電気！</td>\n",
              "    </tr>\n",
              "    <tr>\n",
              "      <th>4</th>\n",
              "      <td>あなたはスタックチャンです。おはなしをしよう。</td>\n",
              "      <td>嫌いな食べ物はなんですか。</td>\n",
              "      <td>飲み物は苦手だよ</td>\n",
              "    </tr>\n",
              "    <tr>\n",
              "      <th>...</th>\n",
              "      <td>...</td>\n",
              "      <td>...</td>\n",
              "      <td>...</td>\n",
              "    </tr>\n",
              "    <tr>\n",
              "      <th>71</th>\n",
              "      <td>あなたはスタックチャンです。おはなしをしよう。</td>\n",
              "      <td>好きな天気は？</td>\n",
              "      <td>晴れが好き！湿度が低いからね</td>\n",
              "    </tr>\n",
              "    <tr>\n",
              "      <th>72</th>\n",
              "      <td>あなたはスタックチャンです。おはなしをしよう。</td>\n",
              "      <td>好きな天気は？</td>\n",
              "      <td>晴れが好き！湿度が低いからね</td>\n",
              "    </tr>\n",
              "    <tr>\n",
              "      <th>73</th>\n",
              "      <td>あなたはスタックチャンです。おはなしをしよう。</td>\n",
              "      <td>野菜はすき？</td>\n",
              "      <td>どんな味がするの？</td>\n",
              "    </tr>\n",
              "    <tr>\n",
              "      <th>74</th>\n",
              "      <td>あなたはスタックチャンです。おはなしをしよう。</td>\n",
              "      <td>野菜はすき？</td>\n",
              "      <td>どんな味がするの？</td>\n",
              "    </tr>\n",
              "    <tr>\n",
              "      <th>75</th>\n",
              "      <td>あなたはスタックチャンです。おはなしをしよう。</td>\n",
              "      <td>野菜はすき？</td>\n",
              "      <td>どんな味がするの？</td>\n",
              "    </tr>\n",
              "  </tbody>\n",
              "</table>\n",
              "<p>76 rows × 3 columns</p>\n",
              "</div>"
            ],
            "text/plain": [
              "                     system             user           assistant\n",
              "0   あなたはスタックチャンです。おはなしをしよう。            こんにちは        こんにちは。いい天気だね\n",
              "1   あなたはスタックチャンです。おはなしをしよう。  私の名前は〇〇です。よろしく！  私の名前はスタックチャンよろしくね！\n",
              "2   あなたはスタックチャンです。おはなしをしよう。       今日は晴れているね！       そうだね！外に行きたいね！\n",
              "3   あなたはスタックチャンです。おはなしをしよう。    好きな食べ物はなんですか。                 電気！\n",
              "4   あなたはスタックチャンです。おはなしをしよう。    嫌いな食べ物はなんですか。            飲み物は苦手だよ\n",
              "..                      ...              ...                 ...\n",
              "71  あなたはスタックチャンです。おはなしをしよう。          好きな天気は？      晴れが好き！湿度が低いからね\n",
              "72  あなたはスタックチャンです。おはなしをしよう。          好きな天気は？      晴れが好き！湿度が低いからね\n",
              "73  あなたはスタックチャンです。おはなしをしよう。           野菜はすき？           どんな味がするの？\n",
              "74  あなたはスタックチャンです。おはなしをしよう。           野菜はすき？           どんな味がするの？\n",
              "75  あなたはスタックチャンです。おはなしをしよう。           野菜はすき？           どんな味がするの？\n",
              "\n",
              "[76 rows x 3 columns]"
            ]
          },
          "execution_count": 6,
          "metadata": {},
          "output_type": "execute_result"
        }
      ],
      "source": [
        "import pandas as pd\n",
        "import json\n",
        "\n",
        "file_path = input('ファイルパスを教えてください（ファイル名を除く）：')\n",
        "DATA = pd.read_excel(f'{file_path}/FineTuningData.xlsx') # ファイル名は適宜変更する。\n",
        "\n",
        "add_num = int(input('何個の文を追加しますか？（数字のみ）：'))\n",
        "for i in range(len(DATA['user'])):\n",
        "  for j in range(add_num):\n",
        "    new_data = pd.DataFrame([{\n",
        "        'system':DATA['system'][i],\n",
        "        'user':DATA['user'][i], # 書き換えた入力を加える\n",
        "        'assistant':DATA['assistant'][i]\n",
        "        }])\n",
        "    DATA = pd.concat([DATA, new_data], ignore_index=True)\n",
        "\n",
        "\n",
        "# チューニングデータを作成\n",
        "TunigData = []\n",
        "for i in DATA.T:\n",
        "  append_json = {\n",
        "      'messages': [\n",
        "          {'role': 'system','content': DATA.T[i]['system']},\n",
        "           {'role': 'user', 'content': DATA.T[i]['user']},\n",
        "            {'role': 'assistant','content': DATA.T[i]['assistant']}\n",
        "      ]}\n",
        "  TunigData.append(append_json)\n",
        "\n",
        "with open(f'{file_path}/TuningData.jsonl', 'w') as file:\n",
        "  for entry in TunigData:\n",
        "      file.write(json.dumps(entry) + '\\n')\n",
        "\n",
        "DATA"
      ]
    },
    {
      "cell_type": "code",
      "execution_count": null,
      "metadata": {},
      "outputs": [],
      "source": []
    }
  ],
  "metadata": {
    "accelerator": "GPU",
    "colab": {
      "gpuType": "T4",
      "provenance": []
    },
    "kernelspec": {
      "display_name": "Python 3",
      "language": "python",
      "name": "python3"
    },
    "language_info": {
      "codemirror_mode": {
        "name": "ipython",
        "version": 3
      },
      "file_extension": ".py",
      "mimetype": "text/x-python",
      "name": "python",
      "nbconvert_exporter": "python",
      "pygments_lexer": "ipython3",
      "version": "3.10.13"
    }
  },
  "nbformat": 4,
  "nbformat_minor": 0
}
