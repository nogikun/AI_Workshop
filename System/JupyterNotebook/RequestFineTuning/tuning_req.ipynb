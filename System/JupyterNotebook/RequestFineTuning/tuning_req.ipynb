{
 "cells": [
  {
   "cell_type": "markdown",
   "metadata": {},
   "source": [
    "# OpenAIへファインチューニングのリクエストを送る\n",
    "\n",
    "編集日：2023/12/06 <br>\n",
    "編集者：[nogikun](https://github.com/nogikun) <br>"
   ]
  },
  {
   "cell_type": "code",
   "execution_count": null,
   "metadata": {},
   "outputs": [],
   "source": [
    "# ライブラリのインストールとインポート\n",
    "%%capture\n",
    "!pip install openai == 1.3.7 # 動作確認済みのバージョン\n",
    "from openai import OpenAI"
   ]
  },
  {
   "cell_type": "code",
   "execution_count": null,
   "metadata": {},
   "outputs": [],
   "source": [
    "# Setting Client\n",
    "client = OpenAI(\n",
    "    # APIキーを設定\n",
    "    api_key=input('OpenAIのAPIキーを入力してください:')\n",
    ")\n",
    "\n",
    "#client.api_key = input('OpenAIのAPIキーを入力してください:')\n",
    "file_path = input('ファイルパスを教えてください（ファイル名を除く）：')\n",
    "\n",
    "# ハイパーパラメータを設定\n",
    "params = {\n",
    "    \"n_epochs\":3 # n_epochs = 3 の場合、学習時間は30分程度\n",
    "    }\n",
    "\n",
    "# チューニングデータをアップロード\n",
    "file_response = client.files.create(\n",
    "  file=open(f\"{file_path}/TuningData.jsonl\", \"rb\"),\n",
    "  purpose='fine-tune'\n",
    ")\n",
    "# アップロードしたファイルのIDを保存\n",
    "file_id = file_response.id\n",
    "print(f\"File ID: {file_id}\")\n"
   ]
  },
  {
   "cell_type": "code",
   "execution_count": null,
   "metadata": {},
   "outputs": [],
   "source": [
    "# 学習実行\n",
    "fine_tuning_response = client.fine_tuning.jobs.create(\n",
    "  training_file=file_id,\n",
    "  model=\"gpt-3.5-turbo\",\n",
    "  hyperparameters=params\n",
    ")\n",
    "# ジョブIDを保存\n",
    "job_id = fine_tuning_response.id\n",
    "\n",
    "# ジョブIDを出力\n",
    "print(f\"Job ID: {job_id}\")"
   ]
  }
 ],
 "metadata": {
  "kernelspec": {
   "display_name": "Python 3",
   "language": "python",
   "name": "python3"
  },
  "language_info": {
   "codemirror_mode": {
    "name": "ipython",
    "version": 3
   },
   "file_extension": ".py",
   "mimetype": "text/x-python",
   "name": "python",
   "nbconvert_exporter": "python",
   "pygments_lexer": "ipython3",
   "version": "3.10.13"
  }
 },
 "nbformat": 4,
 "nbformat_minor": 2
}
