{
  "cells": [
    {
      "cell_type": "markdown",
      "metadata": {
        "id": "TizQdzE4_xe8"
      },
      "source": [
        "# Excelで入力した教師データの拡張\n",
        "\n",
        "編集日：2023/12/03 <br>\n",
        "編集者：[nogikun](https://github.com/nogikun) <br>"
      ]
    },
    {
      "cell_type": "markdown",
      "metadata": {
        "id": "SPsVxebr_xe-"
      },
      "source": [
        "#### 期待するファイル\n",
        "以下のようなテーブルを含むExcelファイルを用意してください。<br>\n",
        "シート数は１つで、シート名は任意です。\n",
        "\n",
        "※ `system` はA1セル、`user` はB1セル、`assistant` はC1セルに入力してください。\n",
        "\n",
        "|system|user|assistant|\n",
        "|:-:|:-:|:-:|\n",
        "|あなたはスタックチャンです。おはなしをしよう。|こんにちは|こんにちは僕の名前はスタックチャンです|\n",
        "|あなたはスタックチャンです。おはなしをしよう。|{任意の質問}|{任意の質問に対応する解答}|\n",
        "|︙|︙|︙|\n"
      ]
    },
    {
      "cell_type": "markdown",
      "metadata": {
        "id": "VYBjEg7I_xe_"
      },
      "source": [
        "#### 実行"
      ]
    },
    {
      "cell_type": "code",
      "execution_count": null,
      "metadata": {
        "id": "JcfGVOq7_xe_"
      },
      "outputs": [],
      "source": []
    }
  ],
  "metadata": {
    "accelerator": "GPU",
    "colab": {
      "gpuType": "T4",
      "provenance": []
    },
    "language_info": {
      "name": "python"
    }
  },
  "nbformat": 4,
  "nbformat_minor": 0
}
